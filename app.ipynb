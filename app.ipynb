{
 "cells": [
  {
   "cell_type": "code",
   "execution_count": 1,
   "metadata": {},
   "outputs": [
    {
     "name": "stdout",
     "output_type": "stream",
     "text": [
      "Requirement already satisfied: flask in d:\\series\\envs\\tensorflow\\lib\\site-packages (1.1.2)Note: you may need to restart the kernel to use updated packages.\n",
      "Requirement already satisfied: itsdangerous>=0.24 in d:\\series\\envs\\tensorflow\\lib\\site-packages (from flask) (1.1.0)\n",
      "Requirement already satisfied: click>=5.1 in d:\\series\\envs\\tensorflow\\lib\\site-packages (from flask) (7.1.2)\n",
      "Requirement already satisfied: Jinja2>=2.10.1 in d:\\series\\envs\\tensorflow\\lib\\site-packages (from flask) (2.11.2)\n",
      "Requirement already satisfied: Werkzeug>=0.15 in d:\\series\\envs\\tensorflow\\lib\\site-packages (from flask) (0.16.1)\n",
      "Requirement already satisfied: MarkupSafe>=0.23 in d:\\series\\envs\\tensorflow\\lib\\site-packages (from Jinja2>=2.10.1->flask) (1.1.1)\n",
      "\n"
     ]
    }
   ],
   "source": [
    "pip install flask"
   ]
  },
  {
   "cell_type": "code",
   "execution_count": 2,
   "metadata": {},
   "outputs": [
    {
     "name": "stdout",
     "output_type": "stream",
     "text": [
      "Requirement already satisfied: tqdm in d:\\series\\envs\\tensorflow\\lib\\site-packages (4.60.0)Note: you may need to restart the kernel to use updated packages.\n",
      "\n"
     ]
    }
   ],
   "source": [
    "pip install tqdm"
   ]
  },
  {
   "cell_type": "code",
   "execution_count": 3,
   "metadata": {},
   "outputs": [
    {
     "name": "stdout",
     "output_type": "stream",
     "text": [
      "Requirement already satisfied: librosa in d:\\series\\envs\\tensorflow\\lib\\site-packages (0.8.0)Note: you may need to restart the kernel to use updated packages.\n",
      "Requirement already satisfied: joblib>=0.14 in d:\\series\\envs\\tensorflow\\lib\\site-packages (from librosa) (1.0.0)\n",
      "Requirement already satisfied: resampy>=0.2.2 in d:\\series\\envs\\tensorflow\\lib\\site-packages (from librosa) (0.2.2)\n",
      "Requirement already satisfied: soundfile>=0.9.0 in d:\\series\\envs\\tensorflow\\lib\\site-packages (from librosa) (0.10.3.post1)\n",
      "Requirement already satisfied: audioread>=2.0.0 in d:\\series\\envs\\tensorflow\\lib\\site-packages (from librosa) (2.1.9)\n",
      "Requirement already satisfied: pooch>=1.0 in d:\\series\\envs\\tensorflow\\lib\\site-packages (from librosa) (1.3.0)\n",
      "Requirement already satisfied: scikit-learn!=0.19.0,>=0.14.0 in d:\\series\\envs\\tensorflow\\lib\\site-packages (from librosa) (0.23.2)\n",
      "Requirement already satisfied: numba>=0.43.0 in d:\\series\\envs\\tensorflow\\lib\\site-packages (from librosa) (0.53.1)\n",
      "Requirement already satisfied: decorator>=3.0.0 in d:\\series\\envs\\tensorflow\\lib\\site-packages (from librosa) (4.4.2)\n",
      "Requirement already satisfied: scipy>=1.0.0 in d:\\series\\envs\\tensorflow\\lib\\site-packages (from librosa) (1.5.4)\n",
      "Requirement already satisfied: numpy>=1.15.0 in d:\\series\\envs\\tensorflow\\lib\\site-packages (from librosa) (1.19.1)\n",
      "Requirement already satisfied: six>=1.3 in d:\\series\\envs\\tensorflow\\lib\\site-packages (from resampy>=0.2.2->librosa) (1.15.0)\n",
      "Requirement already satisfied: cffi>=1.0 in d:\\series\\envs\\tensorflow\\lib\\site-packages (from soundfile>=0.9.0->librosa) (1.14.3)\n",
      "Requirement already satisfied: appdirs in d:\\series\\envs\\tensorflow\\lib\\site-packages (from pooch>=1.0->librosa) (1.4.4)\n",
      "Requirement already satisfied: packaging in d:\\series\\envs\\tensorflow\\lib\\site-packages (from pooch>=1.0->librosa) (20.4)\n",
      "Requirement already satisfied: requests in d:\\series\\envs\\tensorflow\\lib\\site-packages (from pooch>=1.0->librosa) (2.24.0)\n",
      "Requirement already satisfied: threadpoolctl>=2.0.0 in d:\\series\\envs\\tensorflow\\lib\\site-packages (from scikit-learn!=0.19.0,>=0.14.0->librosa) (2.1.0)\n",
      "Requirement already satisfied: setuptools in d:\\series\\envs\\tensorflow\\lib\\site-packages (from numba>=0.43.0->librosa) (50.3.0.post20201006)\n",
      "Requirement already satisfied: llvmlite<0.37,>=0.36.0rc1 in d:\\series\\envs\\tensorflow\\lib\\site-packages (from numba>=0.43.0->librosa) (0.36.0)\n",
      "Requirement already satisfied: pycparser in d:\\series\\envs\\tensorflow\\lib\\site-packages (from cffi>=1.0->soundfile>=0.9.0->librosa) (2.20)\n",
      "Requirement already satisfied: pyparsing>=2.0.2 in d:\\series\\envs\\tensorflow\\lib\\site-packages (from packaging->pooch>=1.0->librosa) (2.4.7)\n",
      "Requirement already satisfied: urllib3!=1.25.0,!=1.25.1,<1.26,>=1.21.1 in d:\\series\\envs\\tensorflow\\lib\\site-packages (from requests->pooch>=1.0->librosa) (1.25.11)\n",
      "Requirement already satisfied: chardet<4,>=3.0.2 in d:\\series\\envs\\tensorflow\\lib\\site-packages (from requests->pooch>=1.0->librosa) (3.0.4)\n",
      "Requirement already satisfied: certifi>=2017.4.17 in d:\\series\\envs\\tensorflow\\lib\\site-packages (from requests->pooch>=1.0->librosa) (2020.6.20)\n",
      "Requirement already satisfied: idna<3,>=2.5 in d:\\series\\envs\\tensorflow\\lib\\site-packages (from requests->pooch>=1.0->librosa) (2.10)\n",
      "\n"
     ]
    }
   ],
   "source": [
    "pip install librosa"
   ]
  },
  {
   "cell_type": "code",
   "execution_count": 4,
   "metadata": {},
   "outputs": [],
   "source": [
    "import librosa"
   ]
  },
  {
   "cell_type": "code",
   "execution_count": 7,
   "metadata": {},
   "outputs": [],
   "source": [
    "audio_dataset_path='C:\\\\Users\\\\Acer\\\\Desktop\\\\Ml end to end\\\\static'"
   ]
  },
  {
   "cell_type": "code",
   "execution_count": null,
   "metadata": {},
   "outputs": [
    {
     "name": "stdout",
     "output_type": "stream",
     "text": [
      " * Serving Flask app \"__main__\" (lazy loading)\n",
      " * Environment: production\n",
      "   WARNING: This is a development server. Do not use it in a production deployment.\n",
      "   Use a production WSGI server instead.\n",
      " * Debug mode: off\n"
     ]
    },
    {
     "name": "stderr",
     "output_type": "stream",
     "text": [
      " * Running on http://127.0.0.1:5000/ (Press CTRL+C to quit)\n",
      "127.0.0.1 - - [29/Apr/2021 09:54:25] \"\u001b[37mGET / HTTP/1.1\u001b[0m\" 200 -\n"
     ]
    },
    {
     "name": "stdout",
     "output_type": "stream",
     "text": [
      "yes\n",
      "[ 0.03170776  0.01437378 -0.00125122 ...  0.06469727  0.06817627\n",
      "  0.08590698] 22050\n",
      "mfcc working\n",
      "mfcc scaled working\n",
      "mfcc scaled 2 working\n",
      "[6]"
     ]
    },
    {
     "name": "stderr",
     "output_type": "stream",
     "text": [
      "127.0.0.1 - - [29/Apr/2021 09:54:55] \"\u001b[37mPOST /a HTTP/1.1\u001b[0m\" 200 -\n"
     ]
    },
    {
     "name": "stdout",
     "output_type": "stream",
     "text": [
      "\n"
     ]
    }
   ],
   "source": [
    "from flask import Flask, render_template,request\n",
    "import requests,librosa\n",
    "import pickle\n",
    "import numpy as np\n",
    "import sklearn\n",
    "from sklearn.preprocessing import StandardScaler\n",
    "app = Flask(__name__)\n",
    "model = pickle.load(open('rf_model.pkl', 'rb'))\n",
    "model_1=pickle.load(open('xg_model.pkl','rb'))\n",
    "@app.route('/')\n",
    "def index():\n",
    "\n",
    "    return render_template('index_1.html')\n",
    "    \n",
    "@app.route(\"/a\",methods=['POST','GET'])\n",
    "def after():\n",
    "    if (request.method=='POST'):\n",
    "        print(\"yes\")\n",
    "        file=request.files['file1']\n",
    "        file.save(\"static/file.wav\")\n",
    "        \n",
    "        filename=\"C:/Users/Acer/Desktop/Ml end to end/static/file.wav\"\n",
    "        audio, sample_rate = librosa.load(filename, res_type='kaiser_fast') \n",
    "        print(audio,sample_rate)\n",
    "        mfccs_features = librosa.feature.mfcc(y=audio, sr=sample_rate, n_mfcc=150)\n",
    "        print(\"mfcc working\")\n",
    "        mfccs_scaled_features = np.mean(mfccs_features.T,axis=0)\n",
    "        print(\"mfcc scaled working\")\n",
    "\n",
    "\n",
    "        mfccs_scaled_features=mfccs_scaled_features.reshape(1,-1)\n",
    "        print(\"mfcc scaled 2 working\")\n",
    "        predicted_label=model.predict(mfccs_scaled_features)\n",
    "        print(predicted_label)\n",
    "        if predicted_label[0] == 0:\n",
    "            predicted_label='Blues'\n",
    "        elif predicted_label[0] == 1:\n",
    "            predicted_label='Classical'\n",
    "        elif predicted_label[0] == 2:\n",
    "            predicted_label='Country'\n",
    "        elif predicted_label[0] == 3:\n",
    "            predicted_label='Disco'\n",
    "        elif predicted_label[0] == 4:\n",
    "            predicted_label='HipHop'\n",
    "        elif predicted_label[0] == 5:\n",
    "            predicted_label='Jazz'\n",
    "        elif predicted_label[0] == 6:\n",
    "            predicted_label='Metal'\n",
    "        elif predicted_label[0] == 7:\n",
    "            predicted_label='Pop'\n",
    "        elif predicted_label[0] == 8:\n",
    "            predicted_label='Reggae'\n",
    "        elif predicted_label[0] == 9:\n",
    "            predicted_label='Rock'\n",
    "    else:\n",
    "        print(\"NO\")\n",
    "    return render_template(\"index_1.html\",final=predicted_label)\n",
    "\n",
    "if __name__ == '__main__':\n",
    "    app.run()"
   ]
  },
  {
   "cell_type": "code",
   "execution_count": 76,
   "metadata": {},
   "outputs": [],
   "source": [
    "from sklearn.preprocessing import LabelEncoder"
   ]
  },
  {
   "cell_type": "code",
   "execution_count": 77,
   "metadata": {},
   "outputs": [],
   "source": [
    "labelencoder=LabelEncoder()"
   ]
  },
  {
   "cell_type": "code",
   "execution_count": 82,
   "metadata": {},
   "outputs": [
    {
     "data": {
      "text/plain": [
       "3"
      ]
     },
     "execution_count": 82,
     "metadata": {},
     "output_type": "execute_result"
    }
   ],
   "source": [
    "predicted_label[0]"
   ]
  },
  {
   "cell_type": "code",
   "execution_count": 72,
   "metadata": {},
   "outputs": [
    {
     "name": "stdout",
     "output_type": "stream",
     "text": [
      " * Serving Flask app \"__main__\" (lazy loading)\n",
      " * Environment: production\n",
      "   WARNING: This is a development server. Do not use it in a production deployment.\n",
      "   Use a production WSGI server instead.\n",
      " * Debug mode: off\n"
     ]
    },
    {
     "name": "stderr",
     "output_type": "stream",
     "text": [
      " * Running on http://127.0.0.1:5000/ (Press CTRL+C to quit)\n"
     ]
    }
   ],
   "source": [
    "if __name__ == '__main__':\n",
    "    app.run()"
   ]
  },
  {
   "cell_type": "code",
   "execution_count": null,
   "metadata": {},
   "outputs": [],
   "source": []
  }
 ],
 "metadata": {
  "kernelspec": {
   "display_name": "Python 3",
   "language": "python",
   "name": "python3"
  },
  "language_info": {
   "codemirror_mode": {
    "name": "ipython",
    "version": 3
   },
   "file_extension": ".py",
   "mimetype": "text/x-python",
   "name": "python",
   "nbconvert_exporter": "python",
   "pygments_lexer": "ipython3",
   "version": "3.7.9"
  }
 },
 "nbformat": 4,
 "nbformat_minor": 4
}
